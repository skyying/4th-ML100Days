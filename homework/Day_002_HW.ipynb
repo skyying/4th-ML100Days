{
 "cells": [
  {
   "cell_type": "markdown",
   "metadata": {},
   "source": [
    "## 機器學習\n",
    "[wiki](https://en.wikipedia.org/wiki/Machine_learning) 讓資料從機器中找尋規律而不需要給特定的規則\n",
    "\n",
    "> field of study that gives computers the ability to learn without being explicity programmed.\n",
    "\n",
    "\n",
    "* __Supervised Learning__\n",
    "舉例有成對的(x, y)資料, 數據之間有關聯, 模型可以學習到數據之間的對應關係，缺點是必須標註記號。\n",
    "\n",
    "* __Unsupervised Learning__\n",
    "只有部分資料, 僅有圖像沒有標記。\n",
    "透過Demension Reduction, Clustering 來實現\n",
    "準確度通常比監督式低\n",
    "\n",
    "* __Reinforcement Learning__\n",
    "定義環境(Environment), 代理機器人(Agent)，跟獎勵來完成一個循環, 讓機器人透過與環境的互動學習如何獲得最高獎勵 (Alpha GO)\n",
    "\n",
    "\n",
    "## 人工智能\n",
    "[wiki](https://en.wikipedia.org/wiki/Artificial_intelligence)\n",
    "電腦擁有人類的智能與決策能力\n",
    "> Computer science defines AI research as the study of \"intelligent agents\": any device that perceives its environment and takes actions that maximize its chance of successfully achieving its goals.[1] A more elaborate definition characterizes AI as “a system’s ability to correctly interpret external data, to learn from such data, and to use those learnings to achieve specific goals and tasks through flexible adaptation.”[61]\n",
    "\n",
    "\n",
    "## 深度學習 \n",
    "[wiki](https://en.wikipedia.org/wiki/Deep_learning)\n",
    "Machine learning 的分支\n",
    "> Learning data representations iwth use a cascade of multiple layers of nonlinear processing unit\n",
    "\n",
    "> Deep learning is a class of machine learning algorithms that[11](pp199–200) uses multiple layers to progressively extract higher level features from the raw input. For example, in image processing, lower layers may identify edges, while higher layers may identify the concepts relevant to a human such as digits or letters or faces."
   ]
  }
 ],
 "metadata": {
  "kernelspec": {
   "display_name": "Python 3",
   "language": "python",
   "name": "python3"
  },
  "language_info": {
   "codemirror_mode": {
    "name": "ipython",
    "version": 3
   },
   "file_extension": ".py",
   "mimetype": "text/x-python",
   "name": "python",
   "nbconvert_exporter": "python",
   "pygments_lexer": "ipython3",
   "version": "3.7.4"
  }
 },
 "nbformat": 4,
 "nbformat_minor": 2
}
