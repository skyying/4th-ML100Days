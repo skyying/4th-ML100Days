{
 "cells": [
  {
   "cell_type": "code",
   "execution_count": 7,
   "metadata": {},
   "outputs": [],
   "source": [
    "import os\n",
    "import numpy as np\n",
    "import pandas as pd\n",
    "import requests\n",
    "from PIL import Image\n",
    "from io import BytesIO\n",
    "import matplotlib.pyplot as plt\n",
    "\n",
    "\n",
    "def gen_dataframe_from_txt():\n",
    "    dir_data = './day_5_data/'\n",
    "    text_file_path = os.path.join(dir_data, 'imagenet_urls_examples.txt')\n",
    "    return pd.read_csv(text_file_path, sep=\"\\t\", names=[\"id\", 'url'], header=0)\n",
    " \n",
    "\n",
    "def store_response_image_to_dataframe(data, n):\n",
    "    for i in range(0, n):\n",
    "\n",
    "        # get download url info\n",
    "        url = image_url_data.iloc[i, 1]\n",
    "        \n",
    "        # fetch image\n",
    "        res = requests.get(str(url), stream=True)\n",
    "        \n",
    "        # raise error if failed to download images\n",
    "        res.raise_for_status()\n",
    "        \n",
    "        # transform response content\n",
    "        image = Image.open(BytesIO(res.content))\n",
    "        \n",
    "        # store image to DataFrame\n",
    "        image_url_data[i, 1] = image;\n",
    "        \n",
    "        # open downloaded image\n",
    "        image.show()\n",
    "\n",
    "image_url_data = gen_dataframe_from_txt()        \n",
    "store_response_image_to_dataframe(image_url_data, 3)\n"
   ]
  }
 ],
 "metadata": {
  "kernelspec": {
   "display_name": "Python 3",
   "language": "python",
   "name": "python3"
  },
  "language_info": {
   "codemirror_mode": {
    "name": "ipython",
    "version": 3
   },
   "file_extension": ".py",
   "mimetype": "text/x-python",
   "name": "python",
   "nbconvert_exporter": "python",
   "pygments_lexer": "ipython3",
   "version": "3.7.4"
  }
 },
 "nbformat": 4,
 "nbformat_minor": 2
}
